{
  "nbformat": 4,
  "nbformat_minor": 0,
  "metadata": {
    "colab": {
      "private_outputs": true,
      "provenance": []
    },
    "kernelspec": {
      "name": "python3",
      "display_name": "Python 3"
    },
    "language_info": {
      "name": "python"
    }
  },
  "cells": [
    {
      "cell_type": "markdown",
      "source": [
        "Importing Libraries"
      ],
      "metadata": {
        "id": "wo9SO-o9lzr8"
      }
    },
    {
      "cell_type": "code",
      "source": [
        "import pandas as pd\n",
        "\n",
        "ev_data= pd.read_csv('/content/Electric_Vehicle_Population_Data.csv')\n",
        "ev_data.head()"
      ],
      "metadata": {
        "id": "LaXPOvv2l5dI"
      },
      "execution_count": null,
      "outputs": []
    },
    {
      "cell_type": "markdown",
      "source": [
        "### Data Cleaning"
      ],
      "metadata": {
        "id": "1c6Qm-Njoq1D"
      }
    },
    {
      "cell_type": "code",
      "source": [
        "ev_data.info()"
      ],
      "metadata": {
        "id": "Znr0RduUoxMq"
      },
      "execution_count": null,
      "outputs": []
    },
    {
      "cell_type": "code",
      "source": [
        "ev_data.isnull().sum()"
      ],
      "metadata": {
        "id": "9TROd-kVpLDv"
      },
      "execution_count": null,
      "outputs": []
    },
    {
      "cell_type": "code",
      "source": [
        "ev_data.dropna(inplace=True)"
      ],
      "metadata": {
        "id": "7DzokDnNq78x"
      },
      "execution_count": null,
      "outputs": []
    },
    {
      "cell_type": "code",
      "source": [
        "ev_data.isnull().sum()"
      ],
      "metadata": {
        "id": "84uJXq1irqkb"
      },
      "execution_count": null,
      "outputs": []
    },
    {
      "cell_type": "code",
      "source": [
        "ev_data.shape"
      ],
      "metadata": {
        "id": "G6eKKxMyrwzj"
      },
      "execution_count": null,
      "outputs": []
    },
    {
      "cell_type": "markdown",
      "source": [
        "# EDA"
      ],
      "metadata": {
        "id": "0Ii4dcZrvdy8"
      }
    },
    {
      "cell_type": "code",
      "source": [
        "import matplotlib.pyplot as plt\n",
        "import seaborn as sns\n",
        "sns.set_style('whitegrid')\n",
        "\n",
        "#EV Adoption over time\n",
        "plt.figure(figsize=(10, 6))\n",
        "ev_adoption_by_year = ev_data['Model Year'].value_counts().sort_index()\n",
        "sns.barplot(x=ev_adoption_by_year.index, y=ev_adoption_by_year.values, palette=\"viridis\")\n",
        "plt.title('EV Adoption by Year')\n",
        "plt.xlabel('Year')\n",
        "plt.ylabel('Number of Vehicle Registered')\n",
        "plt.xticks(rotation=45)\n",
        "plt.tight_layout()\n",
        "plt.show"
      ],
      "metadata": {
        "id": "Oab0bhjtvj1I"
      },
      "execution_count": null,
      "outputs": []
    },
    {
      "cell_type": "markdown",
      "source": [
        "## Geographical Distribution:"
      ],
      "metadata": {
        "id": "rheozhcAdAPf"
      }
    },
    {
      "cell_type": "code",
      "source": [
        "# geographical distribution at county level\n",
        "ev_county_distribution = ev_data['County'].value_counts()\n",
        "top_counties = ev_county_distribution.head(3).index\n",
        "\n",
        "# filtering the dataset for these top counties\n",
        "top_counties_data = ev_data[ev_data['County'].isin(top_counties)]\n",
        "\n",
        "# analyzing the distribution of EVs within the cities of these top counties\n",
        "ev_city_distribution_top_counties = top_counties_data.groupby(['County', 'City']).size().sort_values(ascending=False).reset_index(name='Number of Vehicles')\n",
        "\n",
        "# visualize the top 10 cities across these counties\n",
        "top_cities = ev_city_distribution_top_counties.head(10)\n",
        "\n",
        "plt.figure(figsize=(12, 8))\n",
        "sns.barplot(x='Number of Vehicles', y='City', hue='County', data=top_cities, palette=\"magma\")\n",
        "plt.title('Top Cities in Top Counties by EV Registrations')\n",
        "plt.xlabel('Number of Vehicles Registered')\n",
        "plt.ylabel('City')\n",
        "plt.legend(title='County')\n",
        "plt.tight_layout()\n",
        "plt.show()"
      ],
      "metadata": {
        "id": "iYthq9gKdQgF"
      },
      "execution_count": null,
      "outputs": []
    },
    {
      "cell_type": "markdown",
      "source": [
        "### let’s visualize the distribution of electric vehicle types to see which categories are most popular among the registered vehicles:\n",
        "\n",
        "## analyzing the distribution of electric vehicle Types"
      ],
      "metadata": {
        "id": "Vl2STWuHhP6O"
      }
    },
    {
      "cell_type": "code",
      "source": [
        "#Analyzing The distribution of electric vehicle Types\n",
        "ev_type_distribution = ev_data['Electric Vehicle Type'].value_counts()\n",
        "\n",
        "\n",
        "plt.figure(figsize=(10, 6))\n",
        "sns.barplot(x=ev_type_distribution.values, y=ev_type_distribution.index,  palette='rocket')\n",
        "plt.title('Distribution of Electric Vehicle Types')\n",
        "plt.xlabel('Number of Vehicles Registered')\n",
        "plt.ylabel('Electric Vehicle Type')\n",
        "plt.tight_layout()\n",
        "plt.show()"
      ],
      "metadata": {
        "id": "GN1614bXh188"
      },
      "execution_count": null,
      "outputs": []
    },
    {
      "cell_type": "markdown",
      "source": [
        "### Make and Model Popularity: Identify the most popular makes and models among the registered EVs."
      ],
      "metadata": {
        "id": "yDnE5bQ5khOZ"
      }
    },
    {
      "cell_type": "code",
      "source": [
        "#Analyzing the Populartiy of EV Manufacturer\n",
        "ev_make_distribution = ev_data['Make'].value_counts().head(10)\n",
        "\n",
        "plt.figure(figsize=(10, 6))\n",
        "sns.barplot(x=ev_make_distribution.values, y=ev_make_distribution.index, palette='cubehelix')\n",
        "plt.title('Top 10 Most Popular EV Manufacturers')\n",
        "plt.xlabel('Number of Vehicles Registered')\n",
        "plt.ylabel('Manufacturer')\n",
        "plt.tight_layout()\n",
        "plt.show()\n"
      ],
      "metadata": {
        "id": "ygRI7ZciloXV"
      },
      "execution_count": null,
      "outputs": []
    },
    {
      "cell_type": "code",
      "source": [
        "# selecting the top 3 manufacturers based on the number of vehicles registered\n",
        "top_3_makes = ev_make_distribution.head(3).index\n",
        "\n",
        "# filtering the dataset for these top manufacturers\n",
        "top_makes_data = ev_data[ev_data['Make'].isin(top_3_makes)]\n",
        "\n",
        "# analyzing the popularity of EV models within these top manufacturers\n",
        "ev_model_distribution_top_makes = top_makes_data.groupby(['Make', 'Model']).size().sort_values(ascending=False).reset_index(name='Number of Vehicles')\n",
        "\n",
        "# visualizing the top 10 models across these manufacturers for clarity\n",
        "top_models = ev_model_distribution_top_makes.head(10)\n",
        "\n",
        "plt.figure(figsize=(12, 8))\n",
        "sns.barplot(x='Number of Vehicles', y='Model', hue='Make', data=top_models, palette=\"viridis\")\n",
        "plt.title('Top Models in Top 3 Manufacturers by EV Registrations')\n",
        "plt.xlabel('Number of Vehicles Registered')\n",
        "plt.ylabel('Model')\n",
        "plt.legend(title='Manufacturer')\n",
        "plt.tight_layout()\n",
        "plt.show()"
      ],
      "metadata": {
        "id": "gffShcvjNSIR"
      },
      "execution_count": null,
      "outputs": []
    },
    {
      "cell_type": "markdown",
      "source": [
        "## the electric range of vehicles"
      ],
      "metadata": {
        "id": "Res0TXoCPfp0"
      }
    },
    {
      "cell_type": "code",
      "source": [
        "# analyzing the distribution of electric range\n",
        "plt.figure(figsize=(12, 6))\n",
        "sns.histplot(ev_data['Electric Range'], bins=30, kde=True, color='royalblue')\n",
        "plt.title('Distribution of Electric vehicle Ranges')\n",
        "plt.xlabel('Electric Range (Miles)')\n",
        "plt.ylabel('Number of Vehicles')\n",
        "plt.axvline(ev_data['Electric Range'].mean(), color='red', linestyle='--', label=f'Mean Range: {ev_data[\"Electric Range\"].mean():.2f} miles')\n",
        "plt.legend()\n",
        "plt.show()"
      ],
      "metadata": {
        "id": "772E7973Phcy"
      },
      "execution_count": null,
      "outputs": []
    },
    {
      "cell_type": "markdown",
      "source": [
        "## the trend of electric ranges over model years"
      ],
      "metadata": {
        "id": "QLj9FjSuRjni"
      }
    },
    {
      "cell_type": "code",
      "source": [
        "# calculating the average electric range by model year\n",
        "average_range_by_year = ev_data.groupby('Model Year')['Electric Range'].mean().reset_index()\n",
        "\n",
        "plt.figure(figsize=(12, 6))\n",
        "sns.lineplot(x='Model Year', y='Electric Range', data=average_range_by_year, marker='o', color='green')\n",
        "plt.title('Average Electric Range by Model Year')\n",
        "plt.xlabel('Model Year')\n",
        "plt.ylabel('Average Electric Range (miles)')\n",
        "plt.grid(True)\n",
        "plt.show()"
      ],
      "metadata": {
        "id": "2L9jWoYpRlmf"
      },
      "execution_count": null,
      "outputs": []
    },
    {
      "cell_type": "markdown",
      "source": [
        "## electric ranges vary among the top manufacturers and models."
      ],
      "metadata": {
        "id": "unQKkkqGSITI"
      }
    },
    {
      "cell_type": "code",
      "source": [
        "average_range_by_model = top_makes_data.groupby(['Make', 'Model'])['Electric Range'].mean().sort_values(ascending=False).reset_index()\n",
        "\n",
        "# the top 10 models with the highest average electric range\n",
        "top_range_models = average_range_by_model.head(10)\n",
        "\n",
        "plt.figure(figsize=(12, 8))\n",
        "barplot = sns.barplot(x='Electric Range', y='Model', hue='Make', data=top_range_models, palette=\"cool\")\n",
        "plt.title('Top 10 Models by Average Electric Range in Top Makes')\n",
        "plt.xlabel('Average Electric Range (miles)')\n",
        "plt.ylabel('Model')\n",
        "plt.legend(title='Make', loc='center right')\n",
        "plt.show()"
      ],
      "metadata": {
        "id": "Q94TQsJNSKI4"
      },
      "execution_count": null,
      "outputs": []
    },
    {
      "cell_type": "markdown",
      "source": [
        "## Estimated Market Size Analysis of Electric Vehicles in the United States"
      ],
      "metadata": {
        "id": "c1l_k2FlapK5"
      }
    },
    {
      "cell_type": "code",
      "source": [
        "#Calculate the number of EVs registered each year\n",
        "ev_count_by_year = ev_data['Model Year'].value_counts().sort_index()\n",
        "ev_count_by_year"
      ],
      "metadata": {
        "id": "QMRMF33Uarnw"
      },
      "execution_count": null,
      "outputs": []
    },
    {
      "cell_type": "markdown",
      "source": [
        "Forecasting for EVs in 2024 and for next five years"
      ],
      "metadata": {
        "id": "JRzdiL4A4lyJ"
      }
    },
    {
      "cell_type": "code",
      "source": [
        "from scipy.optimize import curve_fit\n",
        "import numpy as np\n",
        "\n",
        "# filter the dataset to include years with complete data, assuming 2023 is the last complete year\n",
        "filtered_years = ev_count_by_year[ev_count_by_year.index <= 2023]\n",
        "\n",
        "# define a function for exponential growth to fit the data\n",
        "def exp_growth(x, a, b):\n",
        "    return a * np.exp(b * x)\n",
        "\n",
        "# prepare the data for curve fitting\n",
        "x_data = filtered_years.index - filtered_years.index.min()\n",
        "y_data = filtered_years.values\n",
        "\n",
        "# fit the data to the exponential growth function\n",
        "params, covariance = curve_fit(exp_growth, x_data, y_data)\n",
        "\n",
        "# use the fitted function to forecast the number of EVs for 2024 and the next five years\n",
        "forecast_years = np.arange(2024, 2024 + 6) - filtered_years.index.min()\n",
        "forecasted_values = exp_growth(forecast_years, *params)\n",
        "\n",
        "#Create a dictionary to display the forecasted values for eaiser interpretation\n",
        "forcasted_evs = dict(zip(forecast_years + filtered_years.index.min(),forecasted_values))\n",
        "print(forcasted_evs)"
      ],
      "metadata": {
        "id": "lwK5QkBO4rM_"
      },
      "execution_count": null,
      "outputs": []
    },
    {
      "cell_type": "markdown",
      "source": [
        "## Now, let’s plot the estimated market size data:"
      ],
      "metadata": {
        "id": "VhcA5M13AMJ_"
      }
    },
    {
      "cell_type": "code",
      "source": [
        "# prepare data for plotting\n",
        "years = np.arange(filtered_years.index.min(), 2029 + 1)\n",
        "actual_years = filtered_years.index\n",
        "forecast_years_full = np.arange(2024, 2029 + 1)\n",
        "\n",
        "# actual and forecasted values\n",
        "actual_values = filtered_years.values\n",
        "forecasted_values_full = [forcasted_evs[year] for year in forecast_years_full]\n",
        "\n",
        "plt.figure(figsize=(12, 8))\n",
        "plt.plot(actual_years, actual_values, 'bo-', label='Actual Registrations')\n",
        "plt.plot(forecast_years_full, forecasted_values_full, 'ro--', label='Forecasted Registrations')\n",
        "\n",
        "plt.title('Current & Estimated EV Market')\n",
        "plt.xlabel('Year')\n",
        "plt.ylabel('Number of EV Registrations')\n",
        "plt.legend()\n",
        "plt.grid(True)  # Add grid lines\n",
        "plt.show()"
      ],
      "metadata": {
        "id": "Ok7XPymMAOXe"
      },
      "execution_count": null,
      "outputs": []
    }
  ]
}